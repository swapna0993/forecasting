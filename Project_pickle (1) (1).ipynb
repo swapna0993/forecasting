{
 "cells": [
  {
   "cell_type": "code",
   "execution_count": 2,
   "metadata": {
    "ExecuteTime": {
     "end_time": "2021-02-28T05:25:12.320848Z",
     "start_time": "2021-02-28T05:25:11.105861Z"
    }
   },
   "outputs": [],
   "source": [
    "from pandas import read_csv\n",
    "import matplotlib.pyplot as plt\n",
    "import pickle\n",
    "import pandas as pd\n",
    "from datetime import datetime"
   ]
  },
  {
   "cell_type": "code",
   "execution_count": null,
   "metadata": {
    "ExecuteTime": {
     "end_time": "2021-02-24T13:40:36.348770Z",
     "start_time": "2021-02-24T13:40:36.029893Z"
    }
   },
   "outputs": [],
   "source": [
    "series = read_csv('final_data.csv', header=0, index_col=0)\n",
    "series.head()"
   ]
  },
  {
   "cell_type": "code",
   "execution_count": null,
   "metadata": {
    "ExecuteTime": {
     "end_time": "2021-02-24T13:41:34.051752Z",
     "start_time": "2021-02-24T13:41:34.038751Z"
    }
   },
   "outputs": [],
   "source": [
    "series.index = pd.to_datetime(series.index)"
   ]
  },
  {
   "cell_type": "code",
   "execution_count": null,
   "metadata": {
    "ExecuteTime": {
     "end_time": "2021-02-24T13:41:36.760680Z",
     "start_time": "2021-02-24T13:41:36.742174Z"
    }
   },
   "outputs": [],
   "source": [
    "series.info()"
   ]
  },
  {
   "cell_type": "code",
   "execution_count": null,
   "metadata": {
    "ExecuteTime": {
     "end_time": "2021-02-24T13:46:42.627560Z",
     "start_time": "2021-02-24T13:41:54.616886Z"
    }
   },
   "outputs": [],
   "source": [
    "### Importing libraries for SARIMA model\n",
    "from statsmodels.tsa.statespace.sarimax import SARIMAX\n",
    "from statsmodels.tsa.statespace.sarimax import SARIMAXResults\n",
    "## Prepare Data\n",
    "X = series.values\n",
    "X = X.astype('float32')\n",
    "### Build and fit model\n",
    "model = SARIMAX(X, order=(1,1,10), seasonal_order=(1,1,1,24), enforce_invertibility=False, enforce_stationarity=False)\n",
    "model_fit = model.fit()\n",
    "### Saving the model as pickle file.\n",
    "model_fit.save('model.pkl')"
   ]
  },
  {
   "cell_type": "code",
   "execution_count": 3,
   "metadata": {
    "ExecuteTime": {
     "end_time": "2021-02-28T05:25:18.741945Z",
     "start_time": "2021-02-28T05:25:15.098283Z"
    }
   },
   "outputs": [],
   "source": [
    "### Loading the model through pickle.\n",
    "model = pickle.load(open('model.pkl', 'rb'))"
   ]
  },
  {
   "cell_type": "code",
   "execution_count": 4,
   "metadata": {
    "ExecuteTime": {
     "end_time": "2021-02-28T05:25:21.104418Z",
     "start_time": "2021-02-28T05:25:20.874012Z"
    }
   },
   "outputs": [],
   "source": [
    "sar_pred = model.forecast(steps=24)"
   ]
  }
 ],
 "metadata": {
  "kernelspec": {
   "display_name": "Python 3",
   "language": "python",
   "name": "python3"
  },
  "language_info": {
   "codemirror_mode": {
    "name": "ipython",
    "version": 3
   },
   "file_extension": ".py",
   "mimetype": "text/x-python",
   "name": "python",
   "nbconvert_exporter": "python",
   "pygments_lexer": "ipython3",
   "version": "3.8.3"
  },
  "varInspector": {
   "cols": {
    "lenName": 16,
    "lenType": 16,
    "lenVar": 40
   },
   "kernels_config": {
    "python": {
     "delete_cmd_postfix": "",
     "delete_cmd_prefix": "del ",
     "library": "var_list.py",
     "varRefreshCmd": "print(var_dic_list())"
    },
    "r": {
     "delete_cmd_postfix": ") ",
     "delete_cmd_prefix": "rm(",
     "library": "var_list.r",
     "varRefreshCmd": "cat(var_dic_list()) "
    }
   },
   "types_to_exclude": [
    "module",
    "function",
    "builtin_function_or_method",
    "instance",
    "_Feature"
   ],
   "window_display": false
  }
 },
 "nbformat": 4,
 "nbformat_minor": 4
}
